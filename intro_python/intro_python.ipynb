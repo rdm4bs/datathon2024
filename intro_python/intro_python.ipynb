{
 "cells": [
  {
   "cell_type": "markdown",
   "id": "de053c4c-8e5a-4e53-97ab-ee7ee53995ca",
   "metadata": {},
   "source": [
    "# Python: Identify areas of potential foliage influence on railway network"
   ]
  },
  {
   "cell_type": "code",
   "execution_count": null,
   "id": "99e068be-630b-4f1b-aeb3-78bc07d1a52f",
   "metadata": {},
   "outputs": [],
   "source": [
    "import geopandas as gpd\n",
    "import requests\n",
    "import shapely\n",
    "import folium"
   ]
  },
  {
   "cell_type": "markdown",
   "id": "72954ef3-d909-46d4-9f47-17fb0ece0415",
   "metadata": {},
   "source": [
    "## Use GeoPandas to load geodata and to clip it to an area of interest"
   ]
  },
  {
   "cell_type": "markdown",
   "id": "7857d531-bfc3-49bf-99f1-74a96e630167",
   "metadata": {},
   "source": [
    "Add Deutsche Bahn Streckennetz from Web Feature Service ([WFS](https://python-gis-book.readthedocs.io/en/latest/part2/chapter-09/nb/01-retrieving-data-from-wfs.html))"
   ]
  },
  {
   "cell_type": "code",
   "execution_count": null,
   "id": "acc51b38-02dc-4ef1-a656-4eb0302a6b4d",
   "metadata": {},
   "outputs": [],
   "source": [
    "# Specify the base WFS url of the service\n",
    "railway_wfs_url = 'https://geoserver.geonet-mrn.de/xdatatogo/db_strecken/ows'\n",
    "\n",
    "# Specify HTTP GET parameters\n",
    "railway_wfs_params = dict(\n",
    "    service='WFS',\n",
    "    request='GetFeature',\n",
    "    typeNames='xdatatogo:db_strecken',\n",
    "    outputFormat='json',\n",
    ")\n",
    "\n",
    "# Build the request by adding all parameters to the service URL\n",
    "request = requests.Request('GET', railway_wfs_url, params=railway_wfs_params).prepare()"
   ]
  },
  {
   "cell_type": "markdown",
   "id": "ffa7248d-c267-4f41-a94b-c3da37ee4e8f",
   "metadata": {},
   "source": [
    "How does such an HTTP request look like?"
   ]
  },
  {
   "cell_type": "code",
   "execution_count": null,
   "id": "6b48fcf2-6103-4c95-8e38-bba150275445",
   "metadata": {},
   "outputs": [],
   "source": [
    "request.url"
   ]
  },
  {
   "cell_type": "markdown",
   "id": "13f91ba4-d1fc-4901-a12d-ab525ce4cf04",
   "metadata": {},
   "source": [
    "Now retrieve data from server into new GeoDataFrame"
   ]
  },
  {
   "cell_type": "code",
   "execution_count": null,
   "id": "d076fed4-856d-4ce3-a00f-2832456ab72b",
   "metadata": {},
   "outputs": [],
   "source": [
    "railway_network = gpd.read_file(request.url)"
   ]
  },
  {
   "cell_type": "markdown",
   "id": "51c4a1de-4715-4f5d-a107-b746f40b170c",
   "metadata": {},
   "source": [
    "Visualise downloaded data in map"
   ]
  },
  {
   "cell_type": "code",
   "execution_count": null,
   "id": "8c3fcac6-8aa9-48e2-9d5b-5db495d3dccc",
   "metadata": {},
   "outputs": [],
   "source": [
    "map = railway_network.explore(color='black')\n",
    "map"
   ]
  },
  {
   "cell_type": "markdown",
   "id": "ab039c22-0983-4efa-b0cd-4247d5ad91a7",
   "metadata": {},
   "source": [
    "Clip the railway network to WGS 84 ([EPSG:4326](https://epsg.io/4326)) bounding box of Lower Saxony. The BBOX is defined by its corner points: `(min_long, min_lat), (max_long, max_lat)`."
   ]
  },
  {
   "cell_type": "code",
   "execution_count": null,
   "id": "b626a978-4cc6-43ee-b42f-cc6d1841d926",
   "metadata": {},
   "outputs": [],
   "source": [
    "bbox = shapely.envelope(\n",
    "    shapely.MultiPoint([(6.345854, 51.295232), (11.598078, 54.13791)])\n",
    ")\n",
    "\n",
    "railway_network = railway_network.clip(bbox)"
   ]
  },
  {
   "cell_type": "code",
   "execution_count": null,
   "id": "bfc84594-5edc-4287-9fa6-d432b4f63367",
   "metadata": {},
   "outputs": [],
   "source": [
    "map = railway_network.explore(name='clipped railway network', color='black')\n",
    "folium.GeoJson(bbox, name='bounding box', color='grey').add_to(map)\n",
    "folium.LayerControl().add_to(map)\n",
    "map"
   ]
  },
  {
   "cell_type": "markdown",
   "id": "885ff82b-e5c3-430c-ad27-117de6894173",
   "metadata": {},
   "source": [
    "## Project the extracted layer to Cartesian 2D coordinates in order to be able to use 'metre' unit for measuring and buffering"
   ]
  },
  {
   "cell_type": "markdown",
   "id": "c3ad2d31-888d-4b01-9627-61bdbf88846a",
   "metadata": {},
   "source": [
    "As destination projection we use the governmentally recommended UTM32 ([EPSG:25832](https://epsg.io/25832)) projection"
   ]
  },
  {
   "cell_type": "code",
   "execution_count": null,
   "id": "1a9a8c95-5ee6-4055-aaee-300b6a45204c",
   "metadata": {},
   "outputs": [],
   "source": [
    "print('Previous CRS:', railway_network.crs)\n",
    "railway_network = railway_network.to_crs(epsg=25832)\n",
    "print('New CRS:', railway_network.crs)"
   ]
  },
  {
   "cell_type": "markdown",
   "id": "b066ec30-6a0c-4864-8b49-211edfcac901",
   "metadata": {},
   "source": [
    "## Create a buffer around the railway tracks"
   ]
  },
  {
   "cell_type": "code",
   "execution_count": null,
   "id": "7c509d3c-7a1f-41fc-befe-5605c7be74b4",
   "metadata": {
    "scrolled": true
   },
   "outputs": [],
   "source": [
    "buffer_distance_m = 20\n",
    "\n",
    "# Duplicate layer to separately store it with a buffered geometry\n",
    "railway_network_buffer = railway_network.copy()\n",
    "railway_network_buffer['geometry'] = railway_network['geometry'].buffer(buffer_distance_m)"
   ]
  },
  {
   "cell_type": "markdown",
   "id": "b202aa22-2663-45b7-9441-96a705bbf089",
   "metadata": {},
   "source": [
    "Inspect the data table if it contains `Polygon` geometries now instead of `(Multi)LineString`."
   ]
  },
  {
   "cell_type": "code",
   "execution_count": null,
   "id": "6c00e346-2793-47a6-8447-847f24f47c2c",
   "metadata": {
    "scrolled": true
   },
   "outputs": [],
   "source": [
    "railway_network_buffer.head()"
   ]
  },
  {
   "cell_type": "markdown",
   "id": "bb688e38-ed74-4f3f-91e0-203681363734",
   "metadata": {},
   "source": [
    "## Identifying areas of foliage influence on railway network"
   ]
  },
  {
   "cell_type": "markdown",
   "id": "7a644f2c-1d7b-4765-a241-526811766d63",
   "metadata": {},
   "source": [
    "Load [forest dataset from WFS](https://mis.bkg.bund.de/trefferanzeige?docuuid=75C069E4-D760-49FF-BD71-5188CF81B4D9) of BKG.\n",
    "\n",
    "- The relevant dataset \"AX_Wald\" is identified by the cryptic layer name `dlm250:objart_43002_f`.\n",
    "- This governmental server returns geometries referenced by default in UTM32 (EPSG:25832). Thus, we can also skip additional re-projection.\n",
    "- We also skip a subsequent clipping step by directly including the BBOX as spatial filter in the WFS request. Because our BBOX is specified in WGS 84 longitude/latitude, we have to explicitly provide the reference system identifier EPSG:4326 for the server to correctly interpret the BBOX coordinates. "
   ]
  },
  {
   "cell_type": "code",
   "execution_count": null,
   "id": "3a688fc4-a985-4c87-ba9a-690cca2217e5",
   "metadata": {},
   "outputs": [],
   "source": [
    "# Add reference system identifier to bbox parameter\n",
    "bbox_parameter = ','.join(str(coord) for coord in bbox.bounds) + ',EPSG:4326'\n",
    "\n",
    "forest_wfs_url = 'https://sgx.geodatenzentrum.de/wfs_dlm250'\n",
    "\n",
    "forest_wfs_params = dict(\n",
    "    service='WFS',\n",
    "    request='GetFeature',\n",
    "    typeNames='dlm250:objart_43002_f',\n",
    "    outputFormat='json',\n",
    "    bbox=bbox_parameter\n",
    ")\n",
    "\n",
    "request = requests.Request('GET', forest_wfs_url, params=forest_wfs_params).prepare()\n",
    "\n",
    "forest_patches = gpd.read_file(request.url)"
   ]
  },
  {
   "cell_type": "markdown",
   "id": "45f60144-32b1-49ff-9faa-508272ac013f",
   "metadata": {},
   "source": [
    "Perform spatial [intersection](https://en.wikipedia.org/wiki/Vector_overlay#Operators) of our railway network with the forest patches"
   ]
  },
  {
   "cell_type": "code",
   "execution_count": null,
   "id": "5b396dd8-51e5-41d3-b11f-4fc374805934",
   "metadata": {},
   "outputs": [],
   "source": [
    "result = gpd.overlay(railway_network_buffer, forest_patches, how='intersection')"
   ]
  },
  {
   "cell_type": "markdown",
   "id": "78f01449-ce76-43ca-8b6c-104cc8620ad5",
   "metadata": {},
   "source": [
    "## Plot the result"
   ]
  },
  {
   "cell_type": "code",
   "execution_count": null,
   "id": "cbe3e531-7529-4a90-a3f2-bea2b0574f75",
   "metadata": {},
   "outputs": [],
   "source": [
    "map = railway_network.explore(name='clipped railway network', color='black')\n",
    "folium.GeoJson(forest_patches['geometry'], name='forest', color='darkgreen', stroke=False, show=False).add_to(map)\n",
    "folium.GeoJson(result['geometry'], name='susceptible areas', color='red').add_to(map)\n",
    "folium.LayerControl().add_to(map)\n",
    "map"
   ]
  },
  {
   "cell_type": "markdown",
   "id": "6dc30d51-72da-42da-91d9-8b49127533f4",
   "metadata": {},
   "source": [
    "## Optional: save map as HTML website and export result to a file"
   ]
  },
  {
   "cell_type": "code",
   "execution_count": null,
   "id": "918273a3-7c60-4de7-b410-cfe6a59e9af5",
   "metadata": {},
   "outputs": [],
   "source": [
    "map.save('susceptible_railway_areas.html')\n",
    "\n",
    "output_file = 'railway_network_intersect_forest.json'\n",
    "result.to_file(output_file)\n",
    "print('File exported successfully.')"
   ]
  }
 ],
 "metadata": {
  "kernelspec": {
   "display_name": "Python 3 (ipykernel)",
   "language": "python",
   "name": "python3"
  },
  "language_info": {
   "codemirror_mode": {
    "name": "ipython",
    "version": 3
   },
   "file_extension": ".py",
   "mimetype": "text/x-python",
   "name": "python",
   "nbconvert_exporter": "python",
   "pygments_lexer": "ipython3",
   "version": "3.8.10"
  }
 },
 "nbformat": 4,
 "nbformat_minor": 5
}

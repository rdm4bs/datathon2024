{
 "cells": [
  {
   "cell_type": "markdown",
   "id": "de053c4c-8e5a-4e53-97ab-ee7ee53995ca",
   "metadata": {},
   "source": [
    "# Python: Identify areas of potential foliage influence on railway network in autumn"
   ]
  },
  {
   "cell_type": "code",
   "execution_count": null,
   "id": "99e068be-630b-4f1b-aeb3-78bc07d1a52f",
   "metadata": {},
   "outputs": [],
   "source": [
    "import geopandas as gpd\n",
    "import shapely\n",
    "import folium"
   ]
  },
  {
   "cell_type": "markdown",
   "id": "72954ef3-d909-46d4-9f47-17fb0ece0415",
   "metadata": {},
   "source": [
    "## Add [WFS](https://python-gis-book.readthedocs.io/en/latest/part2/chapter-09/nb/01-retrieving-data-from-wfs.html) layer in GeoPandas"
   ]
  },
  {
   "cell_type": "code",
   "execution_count": null,
   "id": "acc51b38-02dc-4ef1-a656-4eb0302a6b4d",
   "metadata": {},
   "outputs": [],
   "source": [
    "wfs_url = 'https://geoserver.geonet-mrn.de/xdatatogo/db_strecken/ows?'\\\n",
    "            'service=WFS&'\\\n",
    "            'version=2.0.0&'\\\n",
    "            'request=GetFeature&'\\\n",
    "            'typename=xdatatogo:db_strecken&'\\\n",
    "            'outputFormat=json&'\\\n",
    "            'bbox=6.345854,51.295232,11.598078,54.13791,EPSG:4326'\n",
    "railway_network = gpd.read_file(wfs_url)"
   ]
  },
  {
   "cell_type": "markdown",
   "id": "51c4a1de-4715-4f5d-a107-b746f40b170c",
   "metadata": {},
   "source": [
    "Visualise downloaded data in map"
   ]
  },
  {
   "cell_type": "code",
   "execution_count": null,
   "id": "8c3fcac6-8aa9-48e2-9d5b-5db495d3dccc",
   "metadata": {
    "scrolled": true
   },
   "outputs": [],
   "source": [
    "map = railway_network.explore(name='Railway network within bounding box')\n",
    "folium.LayerControl().add_to(map)\n",
    "map"
   ]
  },
  {
   "cell_type": "markdown",
   "id": "885ff82b-e5c3-430c-ad27-117de6894173",
   "metadata": {},
   "source": [
    "## Reproject the extracted layer to [EPSG:3857](https://epsg.io/3857) in order to be able to use \"metre\" unit for buffering"
   ]
  },
  {
   "cell_type": "code",
   "execution_count": null,
   "id": "1a9a8c95-5ee6-4055-aaee-300b6a45204c",
   "metadata": {},
   "outputs": [],
   "source": [
    "print(\"Current CRS:\", railway_network.crs)"
   ]
  },
  {
   "cell_type": "markdown",
   "id": "d10e3787-a17b-4eda-8838-99dc265162b9",
   "metadata": {},
   "source": [
    "Change the projection"
   ]
  },
  {
   "cell_type": "code",
   "execution_count": null,
   "id": "d640d43b-848d-4e1a-9816-783212948265",
   "metadata": {},
   "outputs": [],
   "source": [
    "railway_network = railway_network.to_crs(epsg=3857)\n",
    "print(\"Projected CRS:\", railway_network.crs)"
   ]
  },
  {
   "cell_type": "markdown",
   "id": "b066ec30-6a0c-4864-8b49-211edfcac901",
   "metadata": {},
   "source": [
    "## Create a buffer around the railway tracks"
   ]
  },
  {
   "cell_type": "code",
   "execution_count": null,
   "id": "7c509d3c-7a1f-41fc-befe-5605c7be74b4",
   "metadata": {
    "scrolled": true
   },
   "outputs": [],
   "source": [
    "buffer_distance_m = 200\n",
    "# duplicate layer to separately store it with a buffered geometry\n",
    "railway_network_buffer = railway_network\n",
    "railway_network_buffer[\"geometry\"] = railway_network[\"geometry\"].buffer(buffer_distance_m)"
   ]
  },
  {
   "cell_type": "markdown",
   "id": "b202aa22-2663-45b7-9441-96a705bbf089",
   "metadata": {},
   "source": [
    "Inspect the data table if it contains polygon geometries now"
   ]
  },
  {
   "cell_type": "code",
   "execution_count": null,
   "id": "6c00e346-2793-47a6-8447-847f24f47c2c",
   "metadata": {},
   "outputs": [],
   "source": [
    "railway_network_buffer.head()"
   ]
  },
  {
   "cell_type": "markdown",
   "id": "bb688e38-ed74-4f3f-91e0-203681363734",
   "metadata": {},
   "source": [
    "## Identifying areas of foliage influence on railway network in autumn "
   ]
  },
  {
   "cell_type": "markdown",
   "id": "7a644f2c-1d7b-4765-a241-526811766d63",
   "metadata": {},
   "source": [
    "Load \"Forst\" dataset from a local Shapefile into a GeoDataFrame"
   ]
  },
  {
   "cell_type": "code",
   "execution_count": null,
   "id": "3a688fc4-a985-4c87-ba9a-690cca2217e5",
   "metadata": {},
   "outputs": [],
   "source": [
    "forst_patches = gpd.read_file('../data/DLM_250_Forst_NDS.shp')"
   ]
  },
  {
   "cell_type": "markdown",
   "id": "45f60144-32b1-49ff-9faa-508272ac013f",
   "metadata": {},
   "source": [
    "Perform spatial [intersection](https://en.wikipedia.org/wiki/Vector_overlay#Operators) of our railway network with the forest patches"
   ]
  },
  {
   "cell_type": "code",
   "execution_count": null,
   "id": "5b396dd8-51e5-41d3-b11f-4fc374805934",
   "metadata": {},
   "outputs": [],
   "source": [
    "result = gpd.overlay(railway_network_buffer, forst_patches, how='intersection')"
   ]
  },
  {
   "cell_type": "markdown",
   "id": "78f01449-ce76-43ca-8b6c-104cc8620ad5",
   "metadata": {},
   "source": [
    "## Plot the result"
   ]
  },
  {
   "cell_type": "code",
   "execution_count": null,
   "id": "cbe3e531-7529-4a90-a3f2-bea2b0574f75",
   "metadata": {},
   "outputs": [],
   "source": [
    "map = result.explore(name='Susceptible railway areas')\n",
    "folium.LayerControl().add_to(map)\n",
    "map"
   ]
  },
  {
   "cell_type": "markdown",
   "id": "6dc30d51-72da-42da-91d9-8b49127533f4",
   "metadata": {},
   "source": [
    "## Optional: export result to a file"
   ]
  },
  {
   "cell_type": "code",
   "execution_count": null,
   "id": "918273a3-7c60-4de7-b410-cfe6a59e9af5",
   "metadata": {},
   "outputs": [],
   "source": [
    "output_file = 'railway_network_intersect_forest.json'\n",
    "result.to_file(output_file)\n",
    "print('File exported successfully.')"
   ]
  }
 ],
 "metadata": {
  "kernelspec": {
   "display_name": "Python 3 (ipykernel)",
   "language": "python",
   "name": "python3"
  },
  "language_info": {
   "codemirror_mode": {
    "name": "ipython",
    "version": 3
   },
   "file_extension": ".py",
   "mimetype": "text/x-python",
   "name": "python",
   "nbconvert_exporter": "python",
   "pygments_lexer": "ipython3",
   "version": "3.8.10"
  }
 },
 "nbformat": 4,
 "nbformat_minor": 5
}

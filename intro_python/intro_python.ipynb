{
 "cells": [
  {
   "cell_type": "markdown",
   "id": "de053c4c-8e5a-4e53-97ab-ee7ee53995ca",
   "metadata": {},
   "source": [
    "# Python: Identify areas of potential foliage influence on railway network"
   ]
  },
  {
   "cell_type": "code",
   "execution_count": null,
   "id": "99e068be-630b-4f1b-aeb3-78bc07d1a52f",
   "metadata": {},
   "outputs": [],
   "source": [
    "import geopandas as gpd\n",
    "import shapely\n",
    "import folium"
   ]
  },
  {
   "cell_type": "markdown",
   "id": "72954ef3-d909-46d4-9f47-17fb0ece0415",
   "metadata": {},
   "source": [
    "## Add [WFS](https://python-gis-book.readthedocs.io/en/latest/part2/chapter-09/nb/01-retrieving-data-from-wfs.html) layer in GeoPandas and clip it to area of interest"
   ]
  },
  {
   "cell_type": "code",
   "execution_count": null,
   "id": "acc51b38-02dc-4ef1-a656-4eb0302a6b4d",
   "metadata": {},
   "outputs": [],
   "source": [
    "railway_wfs_url = 'https://geoserver.geonet-mrn.de/xdatatogo/db_strecken/ows?'\\\n",
    "                    'service=WFS&'\\\n",
    "                    'version=2.0.0&'\\\n",
    "                    'request=GetFeature&'\\\n",
    "                    'typeNames=xdatatogo:db_strecken&'\\\n",
    "                    'outputFormat=json'\n",
    "railway_network = gpd.read_file(railway_wfs_url)"
   ]
  },
  {
   "cell_type": "markdown",
   "id": "51c4a1de-4715-4f5d-a107-b746f40b170c",
   "metadata": {},
   "source": [
    "Visualise downloaded whole data in map"
   ]
  },
  {
   "cell_type": "code",
   "execution_count": null,
   "id": "8c3fcac6-8aa9-48e2-9d5b-5db495d3dccc",
   "metadata": {},
   "outputs": [],
   "source": [
    "map = railway_network.explore()\n",
    "map"
   ]
  },
  {
   "cell_type": "markdown",
   "id": "ab039c22-0983-4efa-b0cd-4247d5ad91a7",
   "metadata": {},
   "source": [
    "Clip the railway network to WGS 84 ([EPSG:4326](https://epsg.io/4326)) bounding box of Lower Saxony. The BBOX is be defined by its boundaries: `long_min, lat_min, long_max, lat_max`."
   ]
  },
  {
   "cell_type": "code",
   "execution_count": null,
   "id": "b626a978-4cc6-43ee-b42f-cc6d1841d926",
   "metadata": {},
   "outputs": [],
   "source": [
    "bbox = (6.345854, 51.295232, 11.598078, 54.13791)\n",
    "railway_network = railway_network.clip(bbox)"
   ]
  },
  {
   "cell_type": "code",
   "execution_count": null,
   "id": "bfc84594-5edc-4287-9fa6-d432b4f63367",
   "metadata": {},
   "outputs": [],
   "source": [
    "map = railway_network.explore()\n",
    "#**TODO** Add BBOX polygon\n",
    "#bbox_polygon = shapely.envelope(shapely.MultiPoint([(bbox[0], bbox[1]), (bbox[2], bbox[3])]))\n",
    "#folium.GeoJson(bbox_polygon).add_to(map)\n",
    "map"
   ]
  },
  {
   "cell_type": "markdown",
   "id": "885ff82b-e5c3-430c-ad27-117de6894173",
   "metadata": {},
   "source": [
    "## Project the extracted layer to UTM32 ([EPSG:25832](https://epsg.io/25832)) in order to be able to use \"metre\" unit for measuring and buffering"
   ]
  },
  {
   "cell_type": "code",
   "execution_count": null,
   "id": "1a9a8c95-5ee6-4055-aaee-300b6a45204c",
   "metadata": {},
   "outputs": [],
   "source": [
    "print(\"Previous CRS:\", railway_network.crs)\n",
    "railway_network = railway_network.to_crs(epsg=25832)\n",
    "print(\"Projected CRS:\", railway_network.crs)"
   ]
  },
  {
   "cell_type": "markdown",
   "id": "b066ec30-6a0c-4864-8b49-211edfcac901",
   "metadata": {},
   "source": [
    "## Create a buffer around the railway tracks"
   ]
  },
  {
   "cell_type": "code",
   "execution_count": null,
   "id": "7c509d3c-7a1f-41fc-befe-5605c7be74b4",
   "metadata": {
    "scrolled": true
   },
   "outputs": [],
   "source": [
    "buffer_distance_m = 20\n",
    "# duplicate layer to separately store it with a buffered geometry\n",
    "railway_network_buffer = railway_network.copy()\n",
    "railway_network_buffer[\"geometry\"] = railway_network[\"geometry\"].buffer(buffer_distance_m)"
   ]
  },
  {
   "cell_type": "markdown",
   "id": "b202aa22-2663-45b7-9441-96a705bbf089",
   "metadata": {},
   "source": [
    "Inspect the data table if it contains `Polygon` geometries now instead of `LineString` or `MultiLineString`."
   ]
  },
  {
   "cell_type": "code",
   "execution_count": null,
   "id": "6c00e346-2793-47a6-8447-847f24f47c2c",
   "metadata": {
    "scrolled": true
   },
   "outputs": [],
   "source": [
    "railway_network_buffer.head()"
   ]
  },
  {
   "cell_type": "markdown",
   "id": "bb688e38-ed74-4f3f-91e0-203681363734",
   "metadata": {},
   "source": [
    "## Identifying areas of foliage influence on railway network"
   ]
  },
  {
   "cell_type": "markdown",
   "id": "7a644f2c-1d7b-4765-a241-526811766d63",
   "metadata": {},
   "source": [
    "Load [forest dataset from WFS](https://mis.bkg.bund.de/trefferanzeige?docuuid=75C069E4-D760-49FF-BD71-5188CF81B4D9) of BKG.\n",
    "\n",
    "The relevant dataset \"AX_Wald\" is identified by the cryptic layer name `dlm250:objart_43002_f`.\n",
    "\n",
    "This governmental server returns geometries referenced by default in EPSG:25832. Thus, we can also skip an additional re-projection.\n",
    "\n",
    "We skip a subsequent clipping step by directly including the BBOX as spatial filter in the WFS request. Because our BBOX is specified in WGS 84 longitude/latitude, we have to explicitly provide the reference system identifier `EPSG:4326` for the server to correctly interpret the coordinates. "
   ]
  },
  {
   "cell_type": "code",
   "execution_count": null,
   "id": "3a688fc4-a985-4c87-ba9a-690cca2217e5",
   "metadata": {},
   "outputs": [],
   "source": [
    "bbox_query_parameter = \",\".join(str(coord) for coord in bbox) + \",EPSG:4326\"\n",
    "forest_wfs_url = 'https://sgx.geodatenzentrum.de/wfs_dlm250?'\\\n",
    "                    'service=WFS&'\\\n",
    "                    'version=2.0.0&'\\\n",
    "                    'request=GetFeature&'\\\n",
    "                    'typeNames=dlm250:objart_43002_f&'\\\n",
    "                    'outputFormat=json&'\\\n",
    "                    'bbox=' + bbox_query_parameter\n",
    "forest_patches = gpd.read_file(forest_wfs_url)"
   ]
  },
  {
   "cell_type": "markdown",
   "id": "45f60144-32b1-49ff-9faa-508272ac013f",
   "metadata": {},
   "source": [
    "Perform spatial [intersection](https://en.wikipedia.org/wiki/Vector_overlay#Operators) of our railway network with the forest patches"
   ]
  },
  {
   "cell_type": "code",
   "execution_count": null,
   "id": "5b396dd8-51e5-41d3-b11f-4fc374805934",
   "metadata": {},
   "outputs": [],
   "source": [
    "result = gpd.overlay(railway_network_buffer, forest_patches, how='intersection')"
   ]
  },
  {
   "cell_type": "markdown",
   "id": "78f01449-ce76-43ca-8b6c-104cc8620ad5",
   "metadata": {},
   "source": [
    "## Plot the result"
   ]
  },
  {
   "cell_type": "markdown",
   "id": "6f094706-3d21-41e3-a007-3e469ca4205b",
   "metadata": {},
   "source": [
    "**TODO** Add all layers to map"
   ]
  },
  {
   "cell_type": "code",
   "execution_count": null,
   "id": "cbe3e531-7529-4a90-a3f2-bea2b0574f75",
   "metadata": {},
   "outputs": [],
   "source": [
    "map = result['geometry'].explore(name='susceptible railway areas', color='red')\n",
    "#folium.GeoJson(railway_network).add_to(map)\n",
    "folium.LayerControl().add_to(map)\n",
    "map"
   ]
  },
  {
   "cell_type": "markdown",
   "id": "6dc30d51-72da-42da-91d9-8b49127533f4",
   "metadata": {},
   "source": [
    "## Optional: export result to a file"
   ]
  },
  {
   "cell_type": "code",
   "execution_count": null,
   "id": "918273a3-7c60-4de7-b410-cfe6a59e9af5",
   "metadata": {},
   "outputs": [],
   "source": [
    "output_file = 'railway_network_intersect_forest.json'\n",
    "result.to_file(output_file)\n",
    "print('File exported successfully.')"
   ]
  }
 ],
 "metadata": {
  "kernelspec": {
   "display_name": "Python 3 (ipykernel)",
   "language": "python",
   "name": "python3"
  },
  "language_info": {
   "codemirror_mode": {
    "name": "ipython",
    "version": 3
   },
   "file_extension": ".py",
   "mimetype": "text/x-python",
   "name": "python",
   "nbconvert_exporter": "python",
   "pygments_lexer": "ipython3",
   "version": "3.8.10"
  }
 },
 "nbformat": 4,
 "nbformat_minor": 5
}

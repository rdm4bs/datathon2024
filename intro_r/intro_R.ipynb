{
 "cells": [
  {
   "cell_type": "code",
   "execution_count": null,
   "id": "f755b245-7259-4589-8fd0-876229ef6161",
   "metadata": {},
   "outputs": [],
   "source": [
    "library(sf)      # simple features packages for handling vector GIS data\n",
    "library(httr2)   # http-request package\n",
    "library(ows4R)   # interface for OGC webservices\n",
    "library(ggplot2) # stabdard plotting\n",
    "library(tmap)    # sophisticated map making"
   ]
  },
  {
   "cell_type": "markdown",
   "id": "993bac66-cf3b-460c-bdaa-a5a76741aac9",
   "metadata": {},
   "source": [
    "The base URL for the railway network"
   ]
  },
  {
   "cell_type": "code",
   "execution_count": null,
   "id": "13f71316-5f6c-4412-bc94-9bf42002f167",
   "metadata": {},
   "outputs": [],
   "source": [
    "railway_wfs_url <- 'https://geoserver.geonet-mrn.de/xdatatogo/db_strecken/ows'"
   ]
  },
  {
   "cell_type": "markdown",
   "id": "6e326e50-7626-424e-91fe-4674df41b2dc",
   "metadata": {},
   "source": [
    "**Use WFSClient from ows4R**  to figure out the FeatureType(s).  \n",
    "This is a shortcut through GetCapabilities.  \n",
    "[Reference WFSClient](https://eblondel.github.io/ows4R/reference/WFSClient.html?q=WFSClient)"
   ]
  },
  {
   "cell_type": "code",
   "execution_count": null,
   "id": "6257a08c-cf53-497a-9a0d-69bd9fc4693d",
   "metadata": {
    "scrolled": true
   },
   "outputs": [],
   "source": [
    "WFS <- WFSClient$new(railway_wfs_url, serviceVersion = \"2.0.0\")\n",
    "WFS$getFeatureTypes(pretty=TRUE) |> print()\n"
   ]
  },
  {
   "cell_type": "markdown",
   "id": "153011e4-743c-4ee0-be56-4933547981e0",
   "metadata": {},
   "source": [
    "Build a `GetFeature`- request"
   ]
  },
  {
   "cell_type": "code",
   "execution_count": null,
   "id": "dbe6a8c8-0ccb-45b4-9d0d-d98a28d8ccc2",
   "metadata": {},
   "outputs": [],
   "source": [
    "parameters <- list(service = 'wfs',\n",
    "                   request = 'GetFeature',\n",
    "                   typeNames = 'xdatatogo:db_strecken'\n",
    "                   )\n",
    "\n",
    "req <- request(railway_wfs_url) |> req_url_query(!!!parameters)\n",
    "print(req)"
   ]
  },
  {
   "cell_type": "markdown",
   "id": "1575d404-decf-47c9-a75e-827a43ffba68",
   "metadata": {},
   "source": [
    "Get the Feature through a raw http-request **using httr2** ..."
   ]
  },
  {
   "cell_type": "markdown",
   "id": "b4d80a98-4bf2-42c9-9239-073942e94434",
   "metadata": {},
   "source": [
    "Actually perform the request and look at the **raw response**:"
   ]
  },
  {
   "cell_type": "code",
   "execution_count": null,
   "id": "aba4cfe4-e306-4562-91fa-6b78942d05a5",
   "metadata": {
    "scrolled": true
   },
   "outputs": [],
   "source": [
    "req |> req_perform() |> resp_raw()"
   ]
  },
  {
   "cell_type": "markdown",
   "id": "0fb5f14b-69e9-4b37-9204-8781adcf349a",
   "metadata": {},
   "source": [
    "Read the response as **sf-object**:"
   ]
  },
  {
   "cell_type": "code",
   "execution_count": null,
   "id": "e1dd46a6-c4e5-4f71-8033-7e92a446c6a4",
   "metadata": {},
   "outputs": [],
   "source": [
    "features <- read_sf(req$url)\n",
    "print(features)"
   ]
  },
  {
   "cell_type": "markdown",
   "id": "f9ee7c50-c179-4fb2-8e1f-ded396a07025",
   "metadata": {},
   "source": [
    "Alternatively: **Use WFSClient$GetFeatures** to get an **sf-object**:\n"
   ]
  },
  {
   "cell_type": "code",
   "execution_count": null,
   "id": "e41ea3bc-9bee-4c73-aed3-6c28c0acdddc",
   "metadata": {},
   "outputs": [],
   "source": [
    "features <- WFS$getFeatures(\"xdatatogo:db_strecken\")\n",
    "print(features)"
   ]
  },
  {
   "cell_type": "code",
   "execution_count": null,
   "id": "33402c0f-822e-4217-9b5a-c733d99106f0",
   "metadata": {},
   "outputs": [],
   "source": [
    "ggplot(features) + geom_sf()"
   ]
  },
  {
   "cell_type": "code",
   "execution_count": null,
   "id": "2efeff42-a8d5-4742-92ad-5ff6bb53b13a",
   "metadata": {},
   "outputs": [],
   "source": [
    "features1 <- st_cast(features, \"MULTILINESTRING\")"
   ]
  },
  {
   "cell_type": "code",
   "execution_count": null,
   "id": "8cf8afff-fc9f-4447-b1f8-2ee4e5d08d95",
   "metadata": {},
   "outputs": [],
   "source": [
    "ggplot(features1) + geom_sf()"
   ]
  },
  {
   "cell_type": "code",
   "execution_count": null,
   "id": "df3eb793-14fc-425e-92b0-b21c8a5560a1",
   "metadata": {},
   "outputs": [],
   "source": [
    "st_crs(features1) <- \"WGS84\""
   ]
  },
  {
   "cell_type": "code",
   "execution_count": null,
   "id": "2a3df2a4-e6d4-4fd8-bf33-a53ce747377d",
   "metadata": {},
   "outputs": [],
   "source": [
    "print(features1)"
   ]
  },
  {
   "cell_type": "code",
   "execution_count": null,
   "id": "537bb943-c362-4f38-bd8f-985e9cafebd3",
   "metadata": {},
   "outputs": [],
   "source": [
    "ggplot(features1) + geom_sf()"
   ]
  },
  {
   "cell_type": "markdown",
   "id": "09ccbffe-cf47-497c-acc0-a7081568caf1",
   "metadata": {},
   "source": [
    "### Clip the railway network to WGS 84 (EPSG:4326) bounding box of Lower Saxony.\n",
    "The BBOX is defined by its corner points: (min_long, min_lat), (max_long, max_lat)"
   ]
  },
  {
   "cell_type": "code",
   "execution_count": null,
   "id": "adee8603-eabb-45ec-b3e5-4808eb1c2ded",
   "metadata": {},
   "outputs": [],
   "source": [
    "bbox <- c(xmin=6.345854, ymin=51.295232, xmax=11.598078, ymax=54.13791)\n"
   ]
  },
  {
   "cell_type": "code",
   "execution_count": null,
   "id": "01603bdb-f70f-456d-93bb-b4f8173c4784",
   "metadata": {},
   "outputs": [],
   "source": [
    "strecken_ni <- st_crop(features1, bbox)"
   ]
  },
  {
   "cell_type": "code",
   "execution_count": null,
   "id": "8f0a499e-f23c-4ccd-9b3a-2ef8488f66c1",
   "metadata": {},
   "outputs": [],
   "source": [
    "ggplot(strecken_ni) + geom_sf()"
   ]
  },
  {
   "cell_type": "code",
   "execution_count": null,
   "id": "df5a0e8e-ea94-42ea-966b-659792cf0575",
   "metadata": {},
   "outputs": [],
   "source": [
    "plot1 <- tm_shape(strecken_ni) + tm_lines(col=\"blue\")\n",
    "tmap_leaflet(plot1)"
   ]
  },
  {
   "cell_type": "markdown",
   "id": "7bed289e-328e-4260-87b0-58afef3f95da",
   "metadata": {},
   "source": [
    "### Project to ETRS89 / UTM zone 32N (has unit meter)"
   ]
  },
  {
   "cell_type": "code",
   "execution_count": null,
   "id": "7fdc53fd-f405-4979-b203-1e0113e54af1",
   "metadata": {},
   "outputs": [],
   "source": [
    "strecken_ni <- st_transform(strecken_ni, crs=25832)"
   ]
  },
  {
   "cell_type": "code",
   "execution_count": null,
   "id": "62ad30cc-5764-4204-8276-01480fde1acc",
   "metadata": {},
   "outputs": [],
   "source": [
    "st_crs(strecken_ni)"
   ]
  },
  {
   "cell_type": "markdown",
   "id": "b80ebe8e-b53c-4249-8e54-acf27a6229a9",
   "metadata": {},
   "source": [
    "### Put a buffer around railway network"
   ]
  },
  {
   "cell_type": "code",
   "execution_count": null,
   "id": "f9aed2d7-fcd5-4485-8ec5-0f3f2d357229",
   "metadata": {},
   "outputs": [],
   "source": [
    "buffer_distance_m <- 2000\n",
    "#buffer_distance_m <- 20"
   ]
  },
  {
   "cell_type": "code",
   "execution_count": null,
   "id": "dfb3e925-3910-4b57-8bf0-19ff42eba91d",
   "metadata": {},
   "outputs": [],
   "source": [
    "strecken_ni_buffer <- st_buffer(strecken_ni, buffer_distance_m)"
   ]
  },
  {
   "cell_type": "code",
   "execution_count": null,
   "id": "0105e35a-a451-4e55-8843-1e2497f616ce",
   "metadata": {},
   "outputs": [],
   "source": [
    "print(strecken_ni_buffer)"
   ]
  },
  {
   "cell_type": "code",
   "execution_count": null,
   "id": "618b9c6b-4576-48e1-86c6-141cb3e173fd",
   "metadata": {},
   "outputs": [],
   "source": [
    "plot1 <- tm_shape(strecken_ni_buffer) + tm_polygons(col=\"blue\")\n",
    "tmap_leaflet(plot1)"
   ]
  },
  {
   "cell_type": "markdown",
   "id": "4da2b9fb-9a4d-4478-8084-f66e480664f5",
   "metadata": {},
   "source": [
    "### Load [forest dataset from WFS](https://mis.bkg.bund.de/trefferanzeige?docuuid=75C069E4-D760-49FF-BD71-5188CF81B4D9) of BKG.\n",
    "\n",
    "- The relevant dataset \"AX_Wald\" is identified by the cryptic layer name `dlm250:objart_43002_f`.\n",
    "- This governmental server returns geometries referenced by default in UTM32 (EPSG:25832). Thus, we can also skip additional re-projection.\n",
    "- We also skip a subsequent clipping step by directly including the BBOX as spatial filter in the WFS request. Because our BBOX is specified in WGS 84 longitude/latitude, we have to explicitly provide the reference system identifier EPSG:4326 for the server to correctly interpret the BBOX coordinates. "
   ]
  },
  {
   "cell_type": "code",
   "execution_count": null,
   "id": "17f70e8c-6402-41d6-aebe-ac7331d8198e",
   "metadata": {},
   "outputs": [],
   "source": [
    "forest_wfs_url <- 'https://sgx.geodatenzentrum.de/wfs_dlm250'"
   ]
  },
  {
   "cell_type": "code",
   "execution_count": null,
   "id": "10c953dc-0be0-49cf-be02-466ff29f61ef",
   "metadata": {},
   "outputs": [],
   "source": [
    "forest_wfs_params <- list(\n",
    "    service='wfs',\n",
    "    request='GetFeature',\n",
    "    typeNames='dlm250:objart_43002_f',\n",
    "    bbox=paste(paste(bbox, collapse=','), ',EPSG:4326')\n",
    ")\n",
    "req <- request(forest_wfs_url) |> req_url_query(!!!forest_wfs_params)"
   ]
  },
  {
   "cell_type": "code",
   "execution_count": null,
   "id": "56eed818-c856-419f-84eb-50c7976e74a8",
   "metadata": {},
   "outputs": [],
   "source": [
    "forest <- read_sf(req$url)\n",
    "st_geometry_type(forest)[1]"
   ]
  },
  {
   "cell_type": "markdown",
   "id": "a9464e95-3cbd-42bd-ae6e-6490cbcddb7f",
   "metadata": {},
   "source": [
    "### Cast to Geometrycollection"
   ]
  },
  {
   "cell_type": "code",
   "execution_count": null,
   "id": "68501b4e-555d-4887-abb9-32aec83fd1e2",
   "metadata": {},
   "outputs": [],
   "source": [
    "forest1 <- st_cast(forest, \"GEOMETRYCOLLECTION\")\n",
    "st_geometry_type(forest1)[1]"
   ]
  },
  {
   "cell_type": "code",
   "execution_count": null,
   "id": "1147a1a9-0f19-4808-be51-329e2fa8a04a",
   "metadata": {},
   "outputs": [],
   "source": [
    "ggplot(forest1) + geom_sf()"
   ]
  },
  {
   "cell_type": "markdown",
   "id": "643d012d-5e0d-414d-8caf-6e4f839f00c1",
   "metadata": {},
   "source": [
    "### Intersect railway-buff polygons with forest polygons"
   ]
  },
  {
   "cell_type": "code",
   "execution_count": null,
   "id": "e49f81c2-0b9c-4b4f-b185-7649414564b5",
   "metadata": {},
   "outputs": [],
   "source": [
    "res <- st_intersection(strecken_ni_buffer, forest1)"
   ]
  },
  {
   "cell_type": "code",
   "execution_count": null,
   "id": "0b207dad-e59b-4812-925a-0fdd3dcbe623",
   "metadata": {},
   "outputs": [],
   "source": [
    "ggplot(res) + geom_sf(linewidth=2)"
   ]
  },
  {
   "cell_type": "code",
   "execution_count": null,
   "id": "33dce2a2-af03-421c-8fd8-af1a2dd92c9a",
   "metadata": {},
   "outputs": [],
   "source": [
    "plot2 <- tm_shape(res) +  tm_borders(col=\"blue\", lwd=2)\n",
    "tmap_leaflet(plot2)"
   ]
  }
 ],
 "metadata": {
  "kernelspec": {
   "display_name": "R",
   "language": "R",
   "name": "ir"
  },
  "language_info": {
   "codemirror_mode": "r",
   "file_extension": ".r",
   "mimetype": "text/x-r-source",
   "name": "R",
   "pygments_lexer": "r",
   "version": "4.2.2"
  }
 },
 "nbformat": 4,
 "nbformat_minor": 5
}
